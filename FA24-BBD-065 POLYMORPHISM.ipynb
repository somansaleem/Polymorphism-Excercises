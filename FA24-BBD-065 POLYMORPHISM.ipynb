{
 "cells": [
  {
   "cell_type": "markdown",
   "id": "aa98f6ee-a8e6-49e2-a668-f4f275955e1d",
   "metadata": {},
   "source": [
    "# SHAPE CLASS"
   ]
  },
  {
   "cell_type": "code",
   "execution_count": 9,
   "id": "58f1a0e8-9716-45fe-9fed-22f5b06ce8d9",
   "metadata": {},
   "outputs": [
    {
     "name": "stdout",
     "output_type": "stream",
     "text": [
      "Shape: Triangle\n",
      "Color: Red\n",
      " Area: 20.0\n",
      "\n",
      "Shape: Rectangle\n",
      "Color: Black\n",
      " Area: 459\n",
      "\n",
      "Shape: Circle\n",
      "Color: Grey\n",
      " Area: 314.159\n",
      "\n"
     ]
    }
   ],
   "source": [
    "\n",
    "class Shape :\n",
    "    def __init__ (self, color, shape_type) :\n",
    "        self.color = color\n",
    "        self.shape_type = shape_type\n",
    "    def area (self) :\n",
    "        area = 0\n",
    "        return area\n",
    "    def describe_shape (self) :\n",
    "        print(f\"Shape: {self.shape_type.title()}\\nColor: {self.color.title()}\")\n",
    "\n",
    "class Circle(Shape) :\n",
    "    def __init__ (self, color, radius, shape_type) :\n",
    "        super().__init__(color, shape_type)\n",
    "        self.radius = radius\n",
    "    def area (self) :\n",
    "        return (3.14159 * (self.radius ** 2))\n",
    "\n",
    "class Rectangle(Shape) :\n",
    "    def __init__ (self, color, length, width, shape_type) :\n",
    "        super().__init__(color, shape_type)\n",
    "        self.length = length\n",
    "        self.width = width\n",
    "    def area (self) :\n",
    "        return (self.width * self.length)\n",
    "    \n",
    "class Triangle(Shape) :\n",
    "    def __init__ (self, color, height, base, shape_type) :\n",
    "        super().__init__(color, shape_type)\n",
    "        self.height = height\n",
    "        self.base = base\n",
    "    def area (self) :\n",
    "        return ((self.height * self.base) *  (1/2))\n",
    "    \n",
    "triangle1 = Triangle(\"RED\", 8, 5, \"Triangle\")\n",
    "rectangle1 = Rectangle(\"BLACK\", 17, 27, \"Rectangle\")\n",
    "circle1 = Circle(\"GREY\", 10, \"circle\")\n",
    "\n",
    "triangle1.describe_shape()\n",
    "print(f\" Area: {triangle1.area()}\\n\")\n",
    "rectangle1.describe_shape()\n",
    "print(f\" Area: {rectangle1.area()}\\n\")\n",
    "circle1.describe_shape()\n",
    "print(f\" Area: {circle1.area()}\\n\")"
   ]
  },
  {
   "cell_type": "markdown",
   "id": "cb83d8c8-4ee0-433a-99ec-f5f3a34f10ee",
   "metadata": {},
   "source": [
    "# ANIMAL CLASS"
   ]
  },
  {
   "cell_type": "code",
   "execution_count": 17,
   "id": "4321f9e4-1131-404e-8358-5ede19edb8ac",
   "metadata": {},
   "outputs": [
    {
     "name": "stdout",
     "output_type": "stream",
     "text": [
      "Rono says: Woof Woof!\n",
      "Maggie says: Meowww!\n",
      "Cybie says: Mooooooooo!\n"
     ]
    }
   ],
   "source": [
    "class Animal:\n",
    "    def __init__(self, name):\n",
    "        self.name = name\n",
    "\n",
    "    def sound(self):\n",
    "        pass  \n",
    "\n",
    "class Dog(Animal):\n",
    "    def __init__(self, name):\n",
    "        super().__init__(name)\n",
    "\n",
    "    def sound(self):\n",
    "        return \"Woof Woof!\"\n",
    "\n",
    "class Cat(Animal):\n",
    "    def __init__(self, name):\n",
    "        super().__init__(name)\n",
    "\n",
    "    def sound(self):\n",
    "        return \"Meowww!\"\n",
    "\n",
    "\n",
    "class Cow(Animal):\n",
    "    def __init__(self, name):\n",
    "        super().__init__(name)\n",
    "\n",
    "    def sound(self):\n",
    "        return \"Mooooooooo!\"\n",
    "\n",
    "\n",
    "dog = Dog(\"Rono\")\n",
    "cat = Cat(\"Maggie\")\n",
    "cow = Cow(\"Cybie\")\n",
    "\n",
    "print(f\"{dog.name} says: {dog.sound()}\")\n",
    "print(f\"{cat.name} says: {cat.sound()}\")\n",
    "print(f\"{cow.name} says: {cow.sound()}\")"
   ]
  },
  {
   "cell_type": "code",
   "execution_count": null,
   "id": "2851f09e-e188-4933-ba8b-f02903ba266f",
   "metadata": {},
   "outputs": [],
   "source": []
  }
 ],
 "metadata": {
  "kernelspec": {
   "display_name": "Python 3 (ipykernel)",
   "language": "python",
   "name": "python3"
  },
  "language_info": {
   "codemirror_mode": {
    "name": "ipython",
    "version": 3
   },
   "file_extension": ".py",
   "mimetype": "text/x-python",
   "name": "python",
   "nbconvert_exporter": "python",
   "pygments_lexer": "ipython3",
   "version": "3.12.4"
  }
 },
 "nbformat": 4,
 "nbformat_minor": 5
}
